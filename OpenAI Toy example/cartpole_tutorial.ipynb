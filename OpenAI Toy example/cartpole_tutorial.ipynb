{
 "cells": [
  {
   "cell_type": "markdown",
   "metadata": {},
   "source": [
    "## CartPlole Example"
   ]
  },
  {
   "cell_type": "markdown",
   "metadata": {},
   "source": [
    "### 1. Random Walk"
   ]
  },
  {
   "cell_type": "code",
   "execution_count": 1,
   "metadata": {},
   "outputs": [
    {
     "name": "stderr",
     "output_type": "stream",
     "text": [
      "C:\\Program Files\\Python37\\lib\\site-packages\\gym\\logger.py:30: UserWarning: \u001b[33mWARN: You are calling 'step()' even though this environment has already returned done = True. You should always call 'reset()' once you receive 'done = True' -- any further steps are undefined behavior.\u001b[0m\n",
      "  warnings.warn(colorize('%s: %s'%('WARN', msg % args), 'yellow'))\n"
     ]
    },
    {
     "name": "stdout",
     "output_type": "stream",
     "text": [
      "200\n"
     ]
    }
   ],
   "source": [
    "import gym\n",
    "from PIL import Image\n",
    "env = gym.make('CartPole-v0')\n",
    "state = env.reset()\n",
    "done = False\n",
    "frames_random = []\n",
    "i = 0\n",
    "for _ in range(200):\n",
    "    img = env.render(mode='rgb_array')\n",
    "    img = Image.fromarray(img)\n",
    "    frames_random.append(img)\n",
    "    action = env.action_space.sample()\n",
    "    next_state, reward, done, _ = env.step(action)\n",
    "    state = next_state\n",
    "    i = i+1\n",
    "print(i)\n",
    "frames_random[0].save('CartPole_random.gif', format='GIF', append_images=frames_random[1:], save_all=True, duration=0.0001)\n",
    "print(\"save picture -- CartPole_random.gif\")\n",
    "env.close()"
   ]
  },
  {
   "cell_type": "markdown",
   "metadata": {},
   "source": [
    "### 2. DQN reinforce learning"
   ]
  },
  {
   "cell_type": "markdown",
   "metadata": {},
   "source": [
    "reference :\n",
    "1. https://gym.openai.com/evaluations/eval_EIcM1ZBnQW2LBaFN6FY65g/\n",
    "2. https://pytorch.org/tutorials/intermediate/reinforcement_q_learning.html"
   ]
  },
  {
   "cell_type": "code",
   "execution_count": 1,
   "metadata": {},
   "outputs": [],
   "source": [
    "import gym\n",
    "from torch import nn, optim\n",
    "import torch.nn.functional as F\n",
    "import torch\n",
    "from collections import deque\n",
    "import numpy as np\n",
    "import math\n",
    "import random\n",
    "from collections import namedtuple\n",
    "from PIL import Image, ImageDraw\n",
    "import os"
   ]
  },
  {
   "cell_type": "code",
   "execution_count": 2,
   "metadata": {},
   "outputs": [],
   "source": [
    "class myDQN(nn.Module):\n",
    "\n",
    "    def __init__(self, layers, class_num, device):\n",
    "        super(myDQN, self).__init__()\n",
    "        input_dim = 4\n",
    "        linear_layers = nn.ModuleList()\n",
    "        for dim in layers:\n",
    "            linear_layers.append(nn.Linear(input_dim, dim).to(device))\n",
    "            linear_layers.append(nn.LeakyReLU())\n",
    "            input_dim = dim\n",
    "        linear_layers.append(nn.Linear(input_dim, class_num).to(device))\n",
    "        self.linear_layers = linear_layers\n",
    "\n",
    "    def forward(self, x):\n",
    "        for layer in self.linear_layers:\n",
    "            x = layer(x)\n",
    "        return x\n",
    "\n",
    "\n",
    "class memoryDataset(object):\n",
    "    def __init__(self, maxlen, device):\n",
    "        self.memory = deque(maxlen=maxlen)\n",
    "        self.subset = namedtuple('Transition', ('state', 'action', 'next_state', 'reward', 'done'))\n",
    "        self.device = device\n",
    "\n",
    "    def push(self, state, action, next_state, reward, done):\n",
    "        state = torch.tensor(state, dtype=torch.float).to(self.device)\n",
    "        action = torch.tensor([action], dtype=torch.long).to(self.device)\n",
    "        reward = torch.tensor(reward, dtype=torch.float).to(self.device)\n",
    "        next_state = torch.tensor(next_state, dtype=torch.float).to(self.device)\n",
    "        ##False:0, True:1\n",
    "        done = torch.tensor([done], dtype=torch.long).to(self.device)\n",
    "        self.memory.append(self.subset(state, action, reward, next_state, done))\n",
    "\n",
    "    def __len__(self):\n",
    "        return len(self.memory)\n",
    "\n",
    "    def sample(self, batch_size):\n",
    "        batch = random.sample(self.memory, min(len(self.memory), batch_size))\n",
    "        batch = self.subset(*zip(*batch))\n",
    "        return batch"
   ]
  },
  {
   "cell_type": "code",
   "execution_count": 3,
   "metadata": {},
   "outputs": [],
   "source": [
    "class DQNCartPoleSolver():\n",
    "    def __init__(self, n_episodes=10000, n_win_ticks=195, max_env_steps=None, gamma=1.0, epsilon=1.0, epsilon_min=0.01,\n",
    "                 epsilon_log_decay=0.995, alpha=0.01, alpha_decay=0.01, batch_size=64, monitor=True, quiet=False, device='cpu', pretrained=None, rendering=False):\n",
    "        self.device = device\n",
    "        self.memory = memoryDataset(maxlen=100000, device=device)\n",
    "        self.env = gym.make('CartPole-v0')\n",
    "        self.gamma = gamma\n",
    "        self.epsilon = epsilon\n",
    "        self.epsilon_min = epsilon_min\n",
    "        self.epsilon_decay = epsilon_log_decay\n",
    "        self.alpha = alpha\n",
    "        self.alpha_decay = alpha_decay\n",
    "        self.n_episodes = n_episodes\n",
    "        self.n_win_ticks = n_win_ticks\n",
    "        self.batch_size = batch_size\n",
    "        self.quiet = quiet\n",
    "        self.class_num = 2\n",
    "        self.layers = [4, 4, 4]\n",
    "        self.model = myDQN(self.layers, self.class_num, self.device)\n",
    "        self.optimizer = optim.Adam(params=self.model.parameters(), lr=alpha, weight_decay=alpha_decay)\n",
    "        if max_env_steps is not None: self.env._max_episode_steps = max_env_steps\n",
    "        save_folder = os.path.join(os.getcwd(), 'model')\n",
    "        if not os.path.isdir(save_folder):\n",
    "            os.mkdir(save_folder)\n",
    "        self.save_path = os.path.join(save_folder, 'model.pkl')\n",
    "\n",
    "\n",
    "    def choose_action(self, state, epsilon=None):\n",
    "        if epsilon is not None and np.random.random() <= epsilon:\n",
    "            return self.env.action_space.sample()\n",
    "        else:\n",
    "            with torch.no_grad():\n",
    "                state = torch.tensor([state], dtype=torch.float).to(self.device)\n",
    "                action = self.model(state) if self.device =='cpu' else self.model(state).cpu()\n",
    "                return int(action.max(dim=1).indices.numpy())\n",
    "\n",
    "    def get_epsilon(self, t):\n",
    "        return max(self.epsilon_min, min(self.epsilon, 1.0 - math.log10((t + 1) * self.epsilon_decay)))\n",
    "\n",
    "    def replay(self, batch_size):\n",
    "        batch = self.memory.sample(batch_size)\n",
    "        state = torch.stack(batch.state)\n",
    "        action = torch.stack(batch.action)\n",
    "        next_state = torch.stack(batch.next_state)\n",
    "        reward = torch.stack(batch.reward)\n",
    "        done = torch.stack(batch.done)\n",
    "        with torch.no_grad():\n",
    "            next_state_action_values = self.model(next_state)\n",
    "        next_state_value = torch.max(next_state_action_values, dim=1).values.view(-1, 1)\n",
    "        reward = reward.view(-1, 1)\n",
    "        target_state_value = torch.stack([reward + (self.gamma * next_state_value), reward], dim=1).squeeze().gather(1, done)\n",
    "\n",
    "        self.optimizer.zero_grad()\n",
    "        state_action_values = self.model(state).gather(1, action)\n",
    "        loss = F.mse_loss(state_action_values, target_state_value)\n",
    "        loss.backward()\n",
    "        self.optimizer.step()\n",
    "        if self.epsilon > self.epsilon_min:\n",
    "            self.epsilon *= self.epsilon_decay\n",
    "\n",
    "    def run(self):\n",
    "        scores = deque(maxlen=100)\n",
    "        for episode in range(self.n_episodes):\n",
    "            state = self.env.reset()\n",
    "            done = False\n",
    "            i = 0\n",
    "            while not done:\n",
    "                action = self.choose_action(state, self.get_epsilon(episode))\n",
    "                next_state, reward, done, _ = self.env.step(action)\n",
    "                self.memory.push(state, action, reward, next_state, done)\n",
    "                state = next_state\n",
    "                i += 1\n",
    "\n",
    "            scores.append(i)\n",
    "            mean_score = np.mean(scores) ##최근 100개가 버티는 시간의 Mean이 조건을 만족하면 멈춤..\n",
    "            if mean_score >= self.n_win_ticks and episode >= 100:\n",
    "                if not self.quiet: print('{} episodes. Solved after {} trials '.format(episode, episode - 100))\n",
    "                SAVE_PATH = '/model/model.pkl'\n",
    "                self.save_model()\n",
    "\n",
    "                return episode - 100\n",
    "            if episode % 100 == 0 and not self.quiet:\n",
    "                print('[Episode {}] - Mean survival time over last 100 episodes was {} ticks. epsilon : {}'.format(episode, mean_score, self.epsilon))\n",
    "\n",
    "            self.replay(self.batch_size)\n",
    "\n",
    "        if not self.quiet: print('Did not solve after {} episodes'.format(episode))\n",
    "        return episode\n",
    "\n",
    "    def save_model(self):\n",
    "        param_groups= {}\n",
    "        param_groups['model_state_dict'] = self.model.state_dict()\n",
    "        param_groups['optimizer_state_dict'] = self.optimizer.state_dict()\n",
    "        param_groups['layers'] = self.layers\n",
    "        param_groups['class_num'] = self.class_num\n",
    "        param_groups['gamma'] = self.gamma\n",
    "        param_groups['epsilon'] = self.epsilon\n",
    "        param_groups['alpha'] = self.alpha\n",
    "        param_groups['alpha_decay'] = self.alpha_decay\n",
    "        param_groups['batch_size'] = self.batch_size\n",
    "        torch.save(param_groups, self.save_path)\n",
    "\n",
    "    def load_model(self):\n",
    "        checkpoint = torch.load(self.save_path)\n",
    "        self.model.load_state_dict(checkpoint['model_state_dict'])\n",
    "        self.optimizer.load_state_dict(checkpoint['optimizer_state_dict'])\n",
    "\n",
    "    def render_policy_net(self):\n",
    "        self.load_model()\n",
    "        #self.env = gym.wrappers.Monitor(self.env, os.path.join(os.getcwd(), 'model','cartpole-1'), force=True)\n",
    "        state = self.env.reset()\n",
    "        done = False\n",
    "        frames = []\n",
    "        raw_frames = []\n",
    "        i = 0\n",
    "        while not done:\n",
    "            img = self.env.render(mode='rgb_array')\n",
    "            raw_frames.append(img)\n",
    "            img = Image.fromarray(img)\n",
    "            frames.append(img)\n",
    "            action = self.choose_action(state)\n",
    "            next_state, reward, done, _ = self.env.step(action)\n",
    "            state = next_state\n",
    "            i = i+1\n",
    "        print(i)\n",
    "        self.env.close()\n",
    "        frames[0].save('CartPole_result.gif', format='GIF', append_images=frames[1:], save_all=True, duration=0.0001)\n",
    "        print(\"save picture -- CartPole_result.gif\")\n",
    "        return frames, raw_frames"
   ]
  },
  {
   "cell_type": "code",
   "execution_count": 4,
   "metadata": {},
   "outputs": [
    {
     "name": "stdout",
     "output_type": "stream",
     "text": [
      "200\n"
     ]
    }
   ],
   "source": [
    "device = torch.device(\"cuda\" if torch.cuda.is_available() else \"cpu\")\n",
    "agent = DQNCartPoleSolver(device=device)\n",
    "#agent.run()\n",
    "frames, raw_frames = agent.render_policy_net()"
   ]
  }
 ],
 "metadata": {
  "kernelspec": {
   "display_name": "Python 3",
   "language": "python",
   "name": "python3"
  },
  "language_info": {
   "codemirror_mode": {
    "name": "ipython",
    "version": 3
   },
   "file_extension": ".py",
   "mimetype": "text/x-python",
   "name": "python",
   "nbconvert_exporter": "python",
   "pygments_lexer": "ipython3",
   "version": "3.7.3"
  }
 },
 "nbformat": 4,
 "nbformat_minor": 1
}
